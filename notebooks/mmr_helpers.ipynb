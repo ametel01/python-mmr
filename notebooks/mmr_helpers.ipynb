{
 "cells": [
  {
   "cell_type": "code",
   "execution_count": 5,
   "metadata": {},
   "outputs": [],
   "source": [
    "class StatelessMmrHelpers:\n",
    "    @staticmethod\n",
    "    def get_height(index):\n",
    "        assert index >= 1, \"index must be at least 1\"\n",
    "\n",
    "        bits = StatelessMmrHelpers.bit_length(index)\n",
    "        ones = StatelessMmrHelpers.all_ones(bits)\n",
    "\n",
    "        if index != ones:\n",
    "            shifted = 1 << (bits - 1)\n",
    "            rec_height = StatelessMmrHelpers.get_height(index - (shifted - 1))\n",
    "            return rec_height\n",
    "\n",
    "        return bits - 1\n",
    "\n",
    "    @staticmethod\n",
    "    def bit_length(num):\n",
    "        if num == 0:\n",
    "            return 0\n",
    "\n",
    "        bit_position = 0\n",
    "        cur_n = 1\n",
    "        while num >= cur_n:\n",
    "            bit_position += 1\n",
    "            cur_n <<= 1\n",
    "        return bit_position\n",
    "\n",
    "    @staticmethod\n",
    "    def all_ones(bits_length):\n",
    "        assert bits_length >= 0, \"bitsLength must be greater or equal to zero\"\n",
    "        return (1 << bits_length) - 1\n",
    "\n",
    "    @staticmethod\n",
    "    def count_ones(num):\n",
    "        count = 0\n",
    "        while num > 0:\n",
    "            num = num & (num - 1)\n",
    "            count += 1\n",
    "        return count\n",
    "\n",
    "    @staticmethod\n",
    "    def sibling_offset(height):\n",
    "        return (2 << height) - 1\n",
    "\n",
    "    @staticmethod\n",
    "    def parent_offset(height):\n",
    "        return 2 << height\n",
    "\n",
    "    @staticmethod\n",
    "    def mmr_size_to_leaf_count(mmr_size):\n",
    "        leaf_count = 0\n",
    "        mountain_leaf_count = 1 << StatelessMmrHelpers.bit_length(mmr_size)\n",
    "        while mountain_leaf_count > 0:\n",
    "            mountain_size = 2 * mountain_leaf_count - 1\n",
    "            if mountain_size <= mmr_size:\n",
    "                leaf_count += mountain_leaf_count\n",
    "                mmr_size -= mountain_size\n",
    "            mountain_leaf_count //= 2\n",
    "        return leaf_count\n",
    "\n",
    "    @staticmethod\n",
    "    def mmr_index_to_leaf_index(mmr_index):\n",
    "        return StatelessMmrHelpers.mmr_size_to_leaf_count(mmr_index - 1)\n",
    "\n",
    "    @staticmethod\n",
    "    def leaf_count_to_append_no_merges(leaf_count):\n",
    "        count = 0\n",
    "        while leaf_count > 0 and (leaf_count & 1) == 1:\n",
    "            count += 1\n",
    "            leaf_count //= 2\n",
    "        return count\n",
    "\n",
    "    @staticmethod\n",
    "    def new_arr_with_elem(source_arr, elem):\n",
    "        output_array = source_arr + [elem]\n",
    "        return output_array\n",
    "\n",
    "    @staticmethod\n",
    "    def array_contains(elem, arr):\n",
    "        return elem in arr\n",
    "    \n",
    "    @staticmethod\n",
    "    def leaf_count_to_mmr_size(leaf_count):\n",
    "        mmr_size = 0\n",
    "        mountain_leaf_count = 1\n",
    "        while mountain_leaf_count <= leaf_count:\n",
    "            mountain_size = 2 * mountain_leaf_count - 1\n",
    "            mmr_size += mountain_size\n",
    "            leaf_count -= mountain_leaf_count\n",
    "            mountain_leaf_count *= 2\n",
    "        mmr_size += leaf_count\n",
    "        return mmr_size\n",
    "    "
   ]
  },
  {
   "cell_type": "code",
   "execution_count": 6,
   "metadata": {},
   "outputs": [
    {
     "data": {
      "text/plain": [
       "1"
      ]
     },
     "execution_count": 6,
     "metadata": {},
     "output_type": "execute_result"
    }
   ],
   "source": [
    "StatelessMmrHelpers.get_height(49)"
   ]
  },
  {
   "cell_type": "code",
   "execution_count": null,
   "metadata": {},
   "outputs": [],
   "source": []
  }
 ],
 "metadata": {
  "kernelspec": {
   "display_name": "stdenv",
   "language": "python",
   "name": "python3"
  },
  "language_info": {
   "codemirror_mode": {
    "name": "ipython",
    "version": 3
   },
   "file_extension": ".py",
   "mimetype": "text/x-python",
   "name": "python",
   "nbconvert_exporter": "python",
   "pygments_lexer": "ipython3",
   "version": "3.12.3"
  }
 },
 "nbformat": 4,
 "nbformat_minor": 2
}
